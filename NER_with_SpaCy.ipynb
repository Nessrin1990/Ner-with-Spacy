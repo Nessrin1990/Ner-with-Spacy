{
  "nbformat": 4,
  "nbformat_minor": 0,
  "metadata": {
    "colab": {
      "provenance": []
    },
    "kernelspec": {
      "name": "python3",
      "display_name": "Python 3"
    },
    "language_info": {
      "name": "python"
    }
  },
  "cells": [
    {
      "cell_type": "code",
      "source": [
        "import spacy\n",
        "sp = spacy.load('en_core_web_sm')"
      ],
      "metadata": {
        "id": "h534b_SRnbNw"
      },
      "execution_count": null,
      "outputs": []
    },
    {
      "cell_type": "code",
      "source": [
        "sen = sp(u\"She doesn’t study German on Monday. She swims every morning.\")"
      ],
      "metadata": {
        "id": "CWLqt9MVnbdy"
      },
      "execution_count": null,
      "outputs": []
    },
    {
      "cell_type": "code",
      "source": [
        "print(sen.text)"
      ],
      "metadata": {
        "colab": {
          "base_uri": "https://localhost:8080/"
        },
        "id": "smcNbjDVoepg",
        "outputId": "206d357f-7bad-4c6d-a62f-1a31cbc52fee"
      },
      "execution_count": null,
      "outputs": [
        {
          "output_type": "stream",
          "name": "stdout",
          "text": [
            "She doesn’t study German on Monday. She swims every morning.\n"
          ]
        }
      ]
    },
    {
      "cell_type": "code",
      "source": [
        "print(sen[0].pos_)"
      ],
      "metadata": {
        "colab": {
          "base_uri": "https://localhost:8080/"
        },
        "id": "oYyBDtxCojw0",
        "outputId": "96b41f93-1cee-437f-b6c8-d41c4ab3c3d2"
      },
      "execution_count": null,
      "outputs": [
        {
          "output_type": "stream",
          "name": "stdout",
          "text": [
            "PRON\n"
          ]
        }
      ]
    },
    {
      "cell_type": "code",
      "source": [
        "print(sen[0].tag_)"
      ],
      "metadata": {
        "colab": {
          "base_uri": "https://localhost:8080/"
        },
        "id": "1efN0_nZoxvX",
        "outputId": "4891cd3f-8c86-4d6e-e4d0-1c15b1a3104a"
      },
      "execution_count": null,
      "outputs": [
        {
          "output_type": "stream",
          "name": "stdout",
          "text": [
            "PRP\n"
          ]
        }
      ]
    },
    {
      "cell_type": "code",
      "source": [
        "print(sen[3].pos_)"
      ],
      "metadata": {
        "colab": {
          "base_uri": "https://localhost:8080/"
        },
        "id": "x8RJBJEuorwr",
        "outputId": "b4c5dd09-4ecc-4259-cc8b-d05982c27c93"
      },
      "execution_count": null,
      "outputs": [
        {
          "output_type": "stream",
          "name": "stdout",
          "text": [
            "VERB\n"
          ]
        }
      ]
    },
    {
      "cell_type": "code",
      "source": [
        "print(sen[3].tag_)"
      ],
      "metadata": {
        "colab": {
          "base_uri": "https://localhost:8080/"
        },
        "id": "N5Gc0xtVot0v",
        "outputId": "b97dd483-4ccf-4b89-b714-a290f695f24f"
      },
      "execution_count": null,
      "outputs": [
        {
          "output_type": "stream",
          "name": "stdout",
          "text": [
            "VB\n"
          ]
        }
      ]
    },
    {
      "cell_type": "code",
      "source": [
        "print(spacy.explain(sen[0].tag_))"
      ],
      "metadata": {
        "colab": {
          "base_uri": "https://localhost:8080/"
        },
        "id": "w__4TCu4o2IM",
        "outputId": "0b22bf5c-9b5d-4e7c-db67-72809d0a9bc5"
      },
      "execution_count": null,
      "outputs": [
        {
          "output_type": "stream",
          "name": "stdout",
          "text": [
            "pronoun, personal\n"
          ]
        }
      ]
    },
    {
      "cell_type": "code",
      "source": [
        "print(spacy.explain(sen[3].tag_))"
      ],
      "metadata": {
        "colab": {
          "base_uri": "https://localhost:8080/"
        },
        "id": "l-oOwR4opO-A",
        "outputId": "d58554d6-7055-45f4-ef85-9be7cca8b37a"
      },
      "execution_count": null,
      "outputs": [
        {
          "output_type": "stream",
          "name": "stdout",
          "text": [
            "verb, base form\n"
          ]
        }
      ]
    },
    {
      "cell_type": "code",
      "source": [
        "for word in sen:\n",
        "    print(f'{word.text:{10}} {word.pos_:{8}} {word.tag_:{6}} {spacy.explain(word.tag_)}')"
      ],
      "metadata": {
        "colab": {
          "base_uri": "https://localhost:8080/"
        },
        "id": "Tt0-yuQXo6zQ",
        "outputId": "990da4ca-0ace-4f0a-89dc-82589da1faaa"
      },
      "execution_count": null,
      "outputs": [
        {
          "output_type": "stream",
          "name": "stdout",
          "text": [
            "She        PRON     PRP    pronoun, personal\n",
            "does       AUX      VBZ    verb, 3rd person singular present\n",
            "n’t        PART     RB     adverb\n",
            "study      VERB     VB     verb, base form\n",
            "German     ADJ      JJ     adjective (English), other noun-modifier (Chinese)\n",
            "on         ADP      IN     conjunction, subordinating or preposition\n",
            "Monday     PROPN    NNP    noun, proper singular\n",
            ".          PUNCT    .      punctuation mark, sentence closer\n",
            "She        PRON     PRP    pronoun, personal\n",
            "swims      VERB     VBZ    verb, 3rd person singular present\n",
            "every      DET      DT     determiner\n",
            "morning    NOUN     NN     noun, singular or mass\n",
            ".          PUNCT    .      punctuation mark, sentence closer\n"
          ]
        }
      ]
    },
    {
      "cell_type": "code",
      "source": [
        "sen = sp(u'Can you help me please?')\n",
        "word = sen[1]\n",
        "\n",
        "print(f'{word.text:{12}} {word.pos_:{10}} {word.tag_:{8}} {spacy.explain(word.tag_)}')"
      ],
      "metadata": {
        "colab": {
          "base_uri": "https://localhost:8080/"
        },
        "id": "qYFwuR6qpb9t",
        "outputId": "05b8ffd4-a0a6-483e-edfd-833e87355d67"
      },
      "execution_count": null,
      "outputs": [
        {
          "output_type": "stream",
          "name": "stdout",
          "text": [
            "you          PRON       PRP      pronoun, personal\n"
          ]
        }
      ]
    },
    {
      "cell_type": "code",
      "source": [
        "sen = sp(u\"She doesn’t study German on Monday. She swims every morning.\")\n",
        "\n",
        "num_pos = sen.count_by(spacy.attrs.POS)\n",
        "num_pos"
      ],
      "metadata": {
        "colab": {
          "base_uri": "https://localhost:8080/"
        },
        "id": "haMNCtUmp_in",
        "outputId": "cf2bdf18-ddd6-4fb6-cbbb-2498661fec19"
      },
      "execution_count": null,
      "outputs": [
        {
          "output_type": "execute_result",
          "data": {
            "text/plain": [
              "{95: 2, 87: 1, 94: 1, 100: 2, 84: 1, 85: 1, 96: 1, 97: 2, 90: 1, 92: 1}"
            ]
          },
          "metadata": {},
          "execution_count": 19
        }
      ]
    },
    {
      "cell_type": "code",
      "source": [
        "for k,v in sorted(num_pos.items()):\n",
        "    print(f'{k}. {sen.vocab[k].text:{12}}: {v}')"
      ],
      "metadata": {
        "colab": {
          "base_uri": "https://localhost:8080/"
        },
        "id": "A6RQ56aNqLTJ",
        "outputId": "55d7cc44-7916-4bc8-abaa-c3f24752440a"
      },
      "execution_count": null,
      "outputs": [
        {
          "output_type": "stream",
          "name": "stdout",
          "text": [
            "84. ADJ         : 1\n",
            "85. ADP         : 1\n",
            "87. AUX         : 1\n",
            "90. DET         : 1\n",
            "92. NOUN        : 1\n",
            "94. PART        : 1\n",
            "95. PRON        : 2\n",
            "96. PROPN       : 1\n",
            "97. PUNCT       : 2\n",
            "100. VERB        : 2\n"
          ]
        }
      ]
    },
    {
      "cell_type": "code",
      "source": [
        "from spacy import displacy\n",
        "\n",
        "sen = sp(u\"She doesn’t study German on Monday. She swims every morning.\")\n",
        "displacy.render(sen, style='dep', jupyter=True, options={'distance': 85})"
      ],
      "metadata": {
        "colab": {
          "base_uri": "https://localhost:8080/",
          "height": 306
        },
        "id": "y7tqPSL3qLYv",
        "outputId": "676f6b04-f552-4f93-c725-4f40af272149"
      },
      "execution_count": null,
      "outputs": [
        {
          "output_type": "display_data",
          "data": {
            "text/plain": [
              "<IPython.core.display.HTML object>"
            ],
            "text/html": [
              "<span class=\"tex2jax_ignore\"><svg xmlns=\"http://www.w3.org/2000/svg\" xmlns:xlink=\"http://www.w3.org/1999/xlink\" xml:lang=\"en\" id=\"bea7c6568a9b442ba92476ee67b6d01f-0\" class=\"displacy\" width=\"985\" height=\"264.5\" direction=\"ltr\" style=\"max-width: none; height: 264.5px; color: #000000; background: #ffffff; font-family: Arial; direction: ltr\">\n",
              "<text class=\"displacy-token\" fill=\"currentColor\" text-anchor=\"middle\" y=\"174.5\">\n",
              "    <tspan class=\"displacy-word\" fill=\"currentColor\" x=\"50\">She</tspan>\n",
              "    <tspan class=\"displacy-tag\" dy=\"2em\" fill=\"currentColor\" x=\"50\">PRON</tspan>\n",
              "</text>\n",
              "\n",
              "<text class=\"displacy-token\" fill=\"currentColor\" text-anchor=\"middle\" y=\"174.5\">\n",
              "    <tspan class=\"displacy-word\" fill=\"currentColor\" x=\"135\">does</tspan>\n",
              "    <tspan class=\"displacy-tag\" dy=\"2em\" fill=\"currentColor\" x=\"135\">AUX</tspan>\n",
              "</text>\n",
              "\n",
              "<text class=\"displacy-token\" fill=\"currentColor\" text-anchor=\"middle\" y=\"174.5\">\n",
              "    <tspan class=\"displacy-word\" fill=\"currentColor\" x=\"220\">n’t</tspan>\n",
              "    <tspan class=\"displacy-tag\" dy=\"2em\" fill=\"currentColor\" x=\"220\">PART</tspan>\n",
              "</text>\n",
              "\n",
              "<text class=\"displacy-token\" fill=\"currentColor\" text-anchor=\"middle\" y=\"174.5\">\n",
              "    <tspan class=\"displacy-word\" fill=\"currentColor\" x=\"305\">study</tspan>\n",
              "    <tspan class=\"displacy-tag\" dy=\"2em\" fill=\"currentColor\" x=\"305\">VERB</tspan>\n",
              "</text>\n",
              "\n",
              "<text class=\"displacy-token\" fill=\"currentColor\" text-anchor=\"middle\" y=\"174.5\">\n",
              "    <tspan class=\"displacy-word\" fill=\"currentColor\" x=\"390\">German</tspan>\n",
              "    <tspan class=\"displacy-tag\" dy=\"2em\" fill=\"currentColor\" x=\"390\">ADJ</tspan>\n",
              "</text>\n",
              "\n",
              "<text class=\"displacy-token\" fill=\"currentColor\" text-anchor=\"middle\" y=\"174.5\">\n",
              "    <tspan class=\"displacy-word\" fill=\"currentColor\" x=\"475\">on</tspan>\n",
              "    <tspan class=\"displacy-tag\" dy=\"2em\" fill=\"currentColor\" x=\"475\">ADP</tspan>\n",
              "</text>\n",
              "\n",
              "<text class=\"displacy-token\" fill=\"currentColor\" text-anchor=\"middle\" y=\"174.5\">\n",
              "    <tspan class=\"displacy-word\" fill=\"currentColor\" x=\"560\">Monday.</tspan>\n",
              "    <tspan class=\"displacy-tag\" dy=\"2em\" fill=\"currentColor\" x=\"560\">PROPN</tspan>\n",
              "</text>\n",
              "\n",
              "<text class=\"displacy-token\" fill=\"currentColor\" text-anchor=\"middle\" y=\"174.5\">\n",
              "    <tspan class=\"displacy-word\" fill=\"currentColor\" x=\"645\">She</tspan>\n",
              "    <tspan class=\"displacy-tag\" dy=\"2em\" fill=\"currentColor\" x=\"645\">PRON</tspan>\n",
              "</text>\n",
              "\n",
              "<text class=\"displacy-token\" fill=\"currentColor\" text-anchor=\"middle\" y=\"174.5\">\n",
              "    <tspan class=\"displacy-word\" fill=\"currentColor\" x=\"730\">swims</tspan>\n",
              "    <tspan class=\"displacy-tag\" dy=\"2em\" fill=\"currentColor\" x=\"730\">VERB</tspan>\n",
              "</text>\n",
              "\n",
              "<text class=\"displacy-token\" fill=\"currentColor\" text-anchor=\"middle\" y=\"174.5\">\n",
              "    <tspan class=\"displacy-word\" fill=\"currentColor\" x=\"815\">every</tspan>\n",
              "    <tspan class=\"displacy-tag\" dy=\"2em\" fill=\"currentColor\" x=\"815\">DET</tspan>\n",
              "</text>\n",
              "\n",
              "<text class=\"displacy-token\" fill=\"currentColor\" text-anchor=\"middle\" y=\"174.5\">\n",
              "    <tspan class=\"displacy-word\" fill=\"currentColor\" x=\"900\">morning.</tspan>\n",
              "    <tspan class=\"displacy-tag\" dy=\"2em\" fill=\"currentColor\" x=\"900\">NOUN</tspan>\n",
              "</text>\n",
              "\n",
              "<g class=\"displacy-arrow\">\n",
              "    <path class=\"displacy-arc\" id=\"arrow-bea7c6568a9b442ba92476ee67b6d01f-0-0\" stroke-width=\"2px\" d=\"M70,129.5 C70,2.0 305.0,2.0 305.0,129.5\" fill=\"none\" stroke=\"currentColor\"/>\n",
              "    <text dy=\"1.25em\" style=\"font-size: 0.8em; letter-spacing: 1px\">\n",
              "        <textPath xlink:href=\"#arrow-bea7c6568a9b442ba92476ee67b6d01f-0-0\" class=\"displacy-label\" startOffset=\"50%\" side=\"left\" fill=\"currentColor\" text-anchor=\"middle\">nsubj</textPath>\n",
              "    </text>\n",
              "    <path class=\"displacy-arrowhead\" d=\"M70,131.5 L62,119.5 78,119.5\" fill=\"currentColor\"/>\n",
              "</g>\n",
              "\n",
              "<g class=\"displacy-arrow\">\n",
              "    <path class=\"displacy-arc\" id=\"arrow-bea7c6568a9b442ba92476ee67b6d01f-0-1\" stroke-width=\"2px\" d=\"M155,129.5 C155,44.5 300.0,44.5 300.0,129.5\" fill=\"none\" stroke=\"currentColor\"/>\n",
              "    <text dy=\"1.25em\" style=\"font-size: 0.8em; letter-spacing: 1px\">\n",
              "        <textPath xlink:href=\"#arrow-bea7c6568a9b442ba92476ee67b6d01f-0-1\" class=\"displacy-label\" startOffset=\"50%\" side=\"left\" fill=\"currentColor\" text-anchor=\"middle\">aux</textPath>\n",
              "    </text>\n",
              "    <path class=\"displacy-arrowhead\" d=\"M155,131.5 L147,119.5 163,119.5\" fill=\"currentColor\"/>\n",
              "</g>\n",
              "\n",
              "<g class=\"displacy-arrow\">\n",
              "    <path class=\"displacy-arc\" id=\"arrow-bea7c6568a9b442ba92476ee67b6d01f-0-2\" stroke-width=\"2px\" d=\"M240,129.5 C240,87.0 295.0,87.0 295.0,129.5\" fill=\"none\" stroke=\"currentColor\"/>\n",
              "    <text dy=\"1.25em\" style=\"font-size: 0.8em; letter-spacing: 1px\">\n",
              "        <textPath xlink:href=\"#arrow-bea7c6568a9b442ba92476ee67b6d01f-0-2\" class=\"displacy-label\" startOffset=\"50%\" side=\"left\" fill=\"currentColor\" text-anchor=\"middle\">neg</textPath>\n",
              "    </text>\n",
              "    <path class=\"displacy-arrowhead\" d=\"M240,131.5 L232,119.5 248,119.5\" fill=\"currentColor\"/>\n",
              "</g>\n",
              "\n",
              "<g class=\"displacy-arrow\">\n",
              "    <path class=\"displacy-arc\" id=\"arrow-bea7c6568a9b442ba92476ee67b6d01f-0-3\" stroke-width=\"2px\" d=\"M325,129.5 C325,87.0 380.0,87.0 380.0,129.5\" fill=\"none\" stroke=\"currentColor\"/>\n",
              "    <text dy=\"1.25em\" style=\"font-size: 0.8em; letter-spacing: 1px\">\n",
              "        <textPath xlink:href=\"#arrow-bea7c6568a9b442ba92476ee67b6d01f-0-3\" class=\"displacy-label\" startOffset=\"50%\" side=\"left\" fill=\"currentColor\" text-anchor=\"middle\">dobj</textPath>\n",
              "    </text>\n",
              "    <path class=\"displacy-arrowhead\" d=\"M380.0,131.5 L388.0,119.5 372.0,119.5\" fill=\"currentColor\"/>\n",
              "</g>\n",
              "\n",
              "<g class=\"displacy-arrow\">\n",
              "    <path class=\"displacy-arc\" id=\"arrow-bea7c6568a9b442ba92476ee67b6d01f-0-4\" stroke-width=\"2px\" d=\"M325,129.5 C325,44.5 470.0,44.5 470.0,129.5\" fill=\"none\" stroke=\"currentColor\"/>\n",
              "    <text dy=\"1.25em\" style=\"font-size: 0.8em; letter-spacing: 1px\">\n",
              "        <textPath xlink:href=\"#arrow-bea7c6568a9b442ba92476ee67b6d01f-0-4\" class=\"displacy-label\" startOffset=\"50%\" side=\"left\" fill=\"currentColor\" text-anchor=\"middle\">prep</textPath>\n",
              "    </text>\n",
              "    <path class=\"displacy-arrowhead\" d=\"M470.0,131.5 L478.0,119.5 462.0,119.5\" fill=\"currentColor\"/>\n",
              "</g>\n",
              "\n",
              "<g class=\"displacy-arrow\">\n",
              "    <path class=\"displacy-arc\" id=\"arrow-bea7c6568a9b442ba92476ee67b6d01f-0-5\" stroke-width=\"2px\" d=\"M495,129.5 C495,87.0 550.0,87.0 550.0,129.5\" fill=\"none\" stroke=\"currentColor\"/>\n",
              "    <text dy=\"1.25em\" style=\"font-size: 0.8em; letter-spacing: 1px\">\n",
              "        <textPath xlink:href=\"#arrow-bea7c6568a9b442ba92476ee67b6d01f-0-5\" class=\"displacy-label\" startOffset=\"50%\" side=\"left\" fill=\"currentColor\" text-anchor=\"middle\">pobj</textPath>\n",
              "    </text>\n",
              "    <path class=\"displacy-arrowhead\" d=\"M550.0,131.5 L558.0,119.5 542.0,119.5\" fill=\"currentColor\"/>\n",
              "</g>\n",
              "\n",
              "<g class=\"displacy-arrow\">\n",
              "    <path class=\"displacy-arc\" id=\"arrow-bea7c6568a9b442ba92476ee67b6d01f-0-6\" stroke-width=\"2px\" d=\"M665,129.5 C665,87.0 720.0,87.0 720.0,129.5\" fill=\"none\" stroke=\"currentColor\"/>\n",
              "    <text dy=\"1.25em\" style=\"font-size: 0.8em; letter-spacing: 1px\">\n",
              "        <textPath xlink:href=\"#arrow-bea7c6568a9b442ba92476ee67b6d01f-0-6\" class=\"displacy-label\" startOffset=\"50%\" side=\"left\" fill=\"currentColor\" text-anchor=\"middle\">nsubj</textPath>\n",
              "    </text>\n",
              "    <path class=\"displacy-arrowhead\" d=\"M665,131.5 L657,119.5 673,119.5\" fill=\"currentColor\"/>\n",
              "</g>\n",
              "\n",
              "<g class=\"displacy-arrow\">\n",
              "    <path class=\"displacy-arc\" id=\"arrow-bea7c6568a9b442ba92476ee67b6d01f-0-7\" stroke-width=\"2px\" d=\"M835,129.5 C835,87.0 890.0,87.0 890.0,129.5\" fill=\"none\" stroke=\"currentColor\"/>\n",
              "    <text dy=\"1.25em\" style=\"font-size: 0.8em; letter-spacing: 1px\">\n",
              "        <textPath xlink:href=\"#arrow-bea7c6568a9b442ba92476ee67b6d01f-0-7\" class=\"displacy-label\" startOffset=\"50%\" side=\"left\" fill=\"currentColor\" text-anchor=\"middle\">det</textPath>\n",
              "    </text>\n",
              "    <path class=\"displacy-arrowhead\" d=\"M835,131.5 L827,119.5 843,119.5\" fill=\"currentColor\"/>\n",
              "</g>\n",
              "\n",
              "<g class=\"displacy-arrow\">\n",
              "    <path class=\"displacy-arc\" id=\"arrow-bea7c6568a9b442ba92476ee67b6d01f-0-8\" stroke-width=\"2px\" d=\"M750,129.5 C750,44.5 895.0,44.5 895.0,129.5\" fill=\"none\" stroke=\"currentColor\"/>\n",
              "    <text dy=\"1.25em\" style=\"font-size: 0.8em; letter-spacing: 1px\">\n",
              "        <textPath xlink:href=\"#arrow-bea7c6568a9b442ba92476ee67b6d01f-0-8\" class=\"displacy-label\" startOffset=\"50%\" side=\"left\" fill=\"currentColor\" text-anchor=\"middle\">npadvmod</textPath>\n",
              "    </text>\n",
              "    <path class=\"displacy-arrowhead\" d=\"M895.0,131.5 L903.0,119.5 887.0,119.5\" fill=\"currentColor\"/>\n",
              "</g>\n",
              "</svg></span>"
            ]
          },
          "metadata": {}
        }
      ]
    },
    {
      "cell_type": "code",
      "source": [
        "displacy.serve(sen, style='dep', options={'distance': 120})"
      ],
      "metadata": {
        "colab": {
          "base_uri": "https://localhost:8080/"
        },
        "id": "IpbIP5-7qV-Y",
        "outputId": "bf3622ce-693e-46f6-d107-5967c766b0f6"
      },
      "execution_count": null,
      "outputs": [
        {
          "output_type": "stream",
          "name": "stdout",
          "text": [
            "\n",
            "Using the 'dep' visualizer\n",
            "Serving on http://0.0.0.0:5000 ...\n",
            "\n",
            "Shutting down server on port 5000.\n"
          ]
        }
      ]
    },
    {
      "cell_type": "code",
      "source": [
        "import spacy\n",
        "sp = spacy.load('en_core_web_sm')\n",
        "\n",
        "sen = sp(u'Tunis is the capital and largest city of Tunisia. The greater metropolitan area of Tunis, often referred to as \"Grand Tunis\", has about 2,700,000 inhabitants. As of 2020, it is the third-largest city in the Maghreb region (after Casablanca and Algiers) and the eleventh-largest in the Arab world.')"
      ],
      "metadata": {
        "id": "z_y8YknGqaB7"
      },
      "execution_count": null,
      "outputs": []
    },
    {
      "cell_type": "code",
      "source": [
        "#returns the list of all the named entities\n",
        "print(sen.ents)"
      ],
      "metadata": {
        "colab": {
          "base_uri": "https://localhost:8080/"
        },
        "id": "dvlQh8_KsfZk",
        "outputId": "e922747a-2738-4c6f-e7ac-9d4aaa4ac3db"
      },
      "execution_count": null,
      "outputs": [
        {
          "output_type": "stream",
          "name": "stdout",
          "text": [
            "(Tunisia, Tunis, Grand Tunis, about 2,700,000, 2020, third, Casablanca, Arab)\n"
          ]
        }
      ]
    },
    {
      "cell_type": "code",
      "source": [
        "for entity in sen.ents:\n",
        "    print(entity.text + ' - ' + entity.label_ + ' - ' + str(spacy.explain(entity.label_)))"
      ],
      "metadata": {
        "colab": {
          "base_uri": "https://localhost:8080/"
        },
        "id": "9VJT-cDLsvuX",
        "outputId": "622f7d68-ef1d-4eff-a4d6-fd82d8980232"
      },
      "execution_count": null,
      "outputs": [
        {
          "output_type": "stream",
          "name": "stdout",
          "text": [
            "Tunisia - GPE - Countries, cities, states\n",
            "Tunis - NORP - Nationalities or religious or political groups\n",
            "Grand Tunis - WORK_OF_ART - Titles of books, songs, etc.\n",
            "about 2,700,000 - CARDINAL - Numerals that do not fall under another type\n",
            "2020 - DATE - Absolute or relative dates or periods\n",
            "third - ORDINAL - \"first\", \"second\", etc.\n",
            "Casablanca - GPE - Countries, cities, states\n",
            "Arab - NORP - Nationalities or religious or political groups\n"
          ]
        }
      ]
    },
    {
      "cell_type": "code",
      "source": [
        "sen = sp(u'The Tunisian dialect features Arabic vocabulary spiced with Berber and French words and phrases. It is also highly influenced by Latin languages such as Italian and Spanish, in addition to some Turkish loanwords. If you study Tunisian Arabic, you will definitely notice the heavy influence from foreign languages.')\n",
        "for entity in sen.ents:\n",
        "    print(entity.text + ' - ' + entity.label_ + ' - ' + str(spacy.explain(entity.label_)))"
      ],
      "metadata": {
        "colab": {
          "base_uri": "https://localhost:8080/"
        },
        "id": "LbfUfpssszLH",
        "outputId": "57838ab9-7d8a-4f18-85b1-e5ac5cbfd02d"
      },
      "execution_count": null,
      "outputs": [
        {
          "output_type": "stream",
          "name": "stdout",
          "text": [
            "Tunisian - NORP - Nationalities or religious or political groups\n",
            "Arabic - LANGUAGE - Any named language\n",
            "Berber - PERSON - People, including fictional\n",
            "French - NORP - Nationalities or religious or political groups\n",
            "Latin - LANGUAGE - Any named language\n",
            "Italian - NORP - Nationalities or religious or political groups\n",
            "Spanish - NORP - Nationalities or religious or political groups\n",
            "Turkish - NORP - Nationalities or religious or political groups\n",
            "Tunisian - NORP - Nationalities or religious or political groups\n"
          ]
        }
      ]
    },
    {
      "cell_type": "code",
      "source": [
        "from spacy.tokens import Span\n",
        "\n",
        "ORG = sen.vocab.strings[u'ORG']\n",
        "new_entity = Span(sen, 0, 1, label=ORG)\n",
        "sen.ents = list(sen.ents) + [new_entity]"
      ],
      "metadata": {
        "id": "EbAyK3ZrtKqj"
      },
      "execution_count": null,
      "outputs": []
    },
    {
      "cell_type": "code",
      "source": [
        "for entity in sen.ents:\n",
        "    print(entity.text + ' - ' + entity.label_ + ' - ' + str(spacy.explain(entity.label_)))"
      ],
      "metadata": {
        "colab": {
          "base_uri": "https://localhost:8080/"
        },
        "id": "qa2mLaD7tRso",
        "outputId": "a00201fa-9cac-4fd8-e4fe-802f8302827a"
      },
      "execution_count": null,
      "outputs": [
        {
          "output_type": "stream",
          "name": "stdout",
          "text": [
            "The - ORG - Companies, agencies, institutions, etc.\n",
            "Tunisian - NORP - Nationalities or religious or political groups\n",
            "Arabic - LANGUAGE - Any named language\n",
            "Berber - PERSON - People, including fictional\n",
            "French - NORP - Nationalities or religious or political groups\n",
            "Latin - LANGUAGE - Any named language\n",
            "Italian - NORP - Nationalities or religious or political groups\n",
            "Spanish - NORP - Nationalities or religious or political groups\n",
            "Turkish - NORP - Nationalities or religious or political groups\n",
            "Tunisian - NORP - Nationalities or religious or political groups\n"
          ]
        }
      ]
    },
    {
      "cell_type": "code",
      "source": [
        "en = sp(u'The Tunisian dialect features Standard Arabic vocabulary spiced with Berber and French words and phrases. It is also highly influenced by Latin languages such as Italian and Spanish, in addition to some Turkish loanwords. Thus, Tunisian Arabic is definitely influenced by foreign languages.')\n",
        "for entity in sen.ents:\n",
        "    print(entity.text + ' - ' + entity.label_ + ' - ' + str(spacy.explain(entity.label_)))"
      ],
      "metadata": {
        "colab": {
          "base_uri": "https://localhost:8080/"
        },
        "id": "9yvfZ3oktTf2",
        "outputId": "8ea6d442-1968-4c97-ae6f-3008ac8fb9de"
      },
      "execution_count": null,
      "outputs": [
        {
          "output_type": "stream",
          "name": "stdout",
          "text": [
            "The - ORG - Companies, agencies, institutions, etc.\n",
            "Tunisian - NORP - Nationalities or religious or political groups\n",
            "Arabic - LANGUAGE - Any named language\n",
            "Berber - PERSON - People, including fictional\n",
            "French - NORP - Nationalities or religious or political groups\n",
            "Latin - LANGUAGE - Any named language\n",
            "Italian - NORP - Nationalities or religious or political groups\n",
            "Spanish - NORP - Nationalities or religious or political groups\n",
            "Turkish - NORP - Nationalities or religious or political groups\n",
            "Tunisian - NORP - Nationalities or religious or political groups\n"
          ]
        }
      ]
    },
    {
      "cell_type": "code",
      "source": [
        "len([ent for ent in sen.ents if ent.label_=='PERSON'])"
      ],
      "metadata": {
        "colab": {
          "base_uri": "https://localhost:8080/"
        },
        "id": "q0HdCsDRtzLf",
        "outputId": "7da830ae-208e-407a-ab4e-306436f2a60b"
      },
      "execution_count": null,
      "outputs": [
        {
          "output_type": "execute_result",
          "data": {
            "text/plain": [
              "1"
            ]
          },
          "metadata": {},
          "execution_count": 33
        }
      ]
    },
    {
      "cell_type": "code",
      "source": [
        "from spacy import displacy\n",
        "\n",
        "sen = sp(u'The Tunisian dialect features Standard Arabic vocabulary spiced with Berber and French words and phrases. It is also highly influenced by Latin languages such as Italian and Spanish, in addition to some Turkish loanwords. Thus, Tunisian Arabic is definitely influenced by foreign languages.')\n",
        "displacy.render(sen, style='ent', jupyter=True)"
      ],
      "metadata": {
        "colab": {
          "base_uri": "https://localhost:8080/",
          "height": 122
        },
        "id": "zc7eYXVht6x9",
        "outputId": "7e47496d-40ed-430e-a12b-a07aae210a95"
      },
      "execution_count": null,
      "outputs": [
        {
          "output_type": "display_data",
          "data": {
            "text/plain": [
              "<IPython.core.display.HTML object>"
            ],
            "text/html": [
              "<span class=\"tex2jax_ignore\"><div class=\"entities\" style=\"line-height: 2.5; direction: ltr\">The \n",
              "<mark class=\"entity\" style=\"background: #c887fb; padding: 0.45em 0.6em; margin: 0 0.25em; line-height: 1; border-radius: 0.35em;\">\n",
              "    Tunisian\n",
              "    <span style=\"font-size: 0.8em; font-weight: bold; line-height: 1; border-radius: 0.35em; vertical-align: middle; margin-left: 0.5rem\">NORP</span>\n",
              "</mark>\n",
              " dialect features Standard Arabic vocabulary spiced with \n",
              "<mark class=\"entity\" style=\"background: #aa9cfc; padding: 0.45em 0.6em; margin: 0 0.25em; line-height: 1; border-radius: 0.35em;\">\n",
              "    Berber\n",
              "    <span style=\"font-size: 0.8em; font-weight: bold; line-height: 1; border-radius: 0.35em; vertical-align: middle; margin-left: 0.5rem\">PERSON</span>\n",
              "</mark>\n",
              " and \n",
              "<mark class=\"entity\" style=\"background: #c887fb; padding: 0.45em 0.6em; margin: 0 0.25em; line-height: 1; border-radius: 0.35em;\">\n",
              "    French\n",
              "    <span style=\"font-size: 0.8em; font-weight: bold; line-height: 1; border-radius: 0.35em; vertical-align: middle; margin-left: 0.5rem\">NORP</span>\n",
              "</mark>\n",
              " words and phrases. It is also highly influenced by \n",
              "<mark class=\"entity\" style=\"background: #ff8197; padding: 0.45em 0.6em; margin: 0 0.25em; line-height: 1; border-radius: 0.35em;\">\n",
              "    Latin\n",
              "    <span style=\"font-size: 0.8em; font-weight: bold; line-height: 1; border-radius: 0.35em; vertical-align: middle; margin-left: 0.5rem\">LANGUAGE</span>\n",
              "</mark>\n",
              " languages such as \n",
              "<mark class=\"entity\" style=\"background: #c887fb; padding: 0.45em 0.6em; margin: 0 0.25em; line-height: 1; border-radius: 0.35em;\">\n",
              "    Italian\n",
              "    <span style=\"font-size: 0.8em; font-weight: bold; line-height: 1; border-radius: 0.35em; vertical-align: middle; margin-left: 0.5rem\">NORP</span>\n",
              "</mark>\n",
              " and \n",
              "<mark class=\"entity\" style=\"background: #c887fb; padding: 0.45em 0.6em; margin: 0 0.25em; line-height: 1; border-radius: 0.35em;\">\n",
              "    Spanish\n",
              "    <span style=\"font-size: 0.8em; font-weight: bold; line-height: 1; border-radius: 0.35em; vertical-align: middle; margin-left: 0.5rem\">NORP</span>\n",
              "</mark>\n",
              ", in addition to some \n",
              "<mark class=\"entity\" style=\"background: #c887fb; padding: 0.45em 0.6em; margin: 0 0.25em; line-height: 1; border-radius: 0.35em;\">\n",
              "    Turkish\n",
              "    <span style=\"font-size: 0.8em; font-weight: bold; line-height: 1; border-radius: 0.35em; vertical-align: middle; margin-left: 0.5rem\">NORP</span>\n",
              "</mark>\n",
              " loanwords. Thus, \n",
              "<mark class=\"entity\" style=\"background: #c887fb; padding: 0.45em 0.6em; margin: 0 0.25em; line-height: 1; border-radius: 0.35em;\">\n",
              "    Tunisian\n",
              "    <span style=\"font-size: 0.8em; font-weight: bold; line-height: 1; border-radius: 0.35em; vertical-align: middle; margin-left: 0.5rem\">NORP</span>\n",
              "</mark>\n",
              " Arabic is definitely influenced by foreign languages.</div></span>"
            ]
          },
          "metadata": {}
        }
      ]
    },
    {
      "cell_type": "code",
      "source": [
        "from spacy import displacy\n",
        "\n",
        "sen1 = sp(u\"Ons Jabeur is a Tunisian professional tennis player. She has been ranked as high as world No. 2 by the Women's Tennis Association (WTA), achieved on 27 June 2022. Jabeur is the current No. 1 Tunisian player, and the highest-ranked African and Arab tennis player in WTA and ATP rankings history. She has won three singles titles on the WTA Tour, as well as 11 singles titles and one doubles title on the ITF Women's Circuit.\")\n",
        "displacy.render(sen1, style='ent', jupyter=True)"
      ],
      "metadata": {
        "colab": {
          "base_uri": "https://localhost:8080/",
          "height": 157
        },
        "id": "eN1Vi2BLuDkD",
        "outputId": "499900ac-9446-436b-8e27-65c8aa85903c"
      },
      "execution_count": null,
      "outputs": [
        {
          "output_type": "display_data",
          "data": {
            "text/plain": [
              "<IPython.core.display.HTML object>"
            ],
            "text/html": [
              "<span class=\"tex2jax_ignore\"><div class=\"entities\" style=\"line-height: 2.5; direction: ltr\">\n",
              "<mark class=\"entity\" style=\"background: #aa9cfc; padding: 0.45em 0.6em; margin: 0 0.25em; line-height: 1; border-radius: 0.35em;\">\n",
              "    Ons Jabeur\n",
              "    <span style=\"font-size: 0.8em; font-weight: bold; line-height: 1; border-radius: 0.35em; vertical-align: middle; margin-left: 0.5rem\">PERSON</span>\n",
              "</mark>\n",
              " is a \n",
              "<mark class=\"entity\" style=\"background: #c887fb; padding: 0.45em 0.6em; margin: 0 0.25em; line-height: 1; border-radius: 0.35em;\">\n",
              "    Tunisian\n",
              "    <span style=\"font-size: 0.8em; font-weight: bold; line-height: 1; border-radius: 0.35em; vertical-align: middle; margin-left: 0.5rem\">NORP</span>\n",
              "</mark>\n",
              " professional tennis player. She has been ranked as high as world No. \n",
              "<mark class=\"entity\" style=\"background: #e4e7d2; padding: 0.45em 0.6em; margin: 0 0.25em; line-height: 1; border-radius: 0.35em;\">\n",
              "    2\n",
              "    <span style=\"font-size: 0.8em; font-weight: bold; line-height: 1; border-radius: 0.35em; vertical-align: middle; margin-left: 0.5rem\">CARDINAL</span>\n",
              "</mark>\n",
              " by \n",
              "<mark class=\"entity\" style=\"background: #7aecec; padding: 0.45em 0.6em; margin: 0 0.25em; line-height: 1; border-radius: 0.35em;\">\n",
              "    the Women's Tennis Association\n",
              "    <span style=\"font-size: 0.8em; font-weight: bold; line-height: 1; border-radius: 0.35em; vertical-align: middle; margin-left: 0.5rem\">ORG</span>\n",
              "</mark>\n",
              " (WTA), achieved on \n",
              "<mark class=\"entity\" style=\"background: #bfe1d9; padding: 0.45em 0.6em; margin: 0 0.25em; line-height: 1; border-radius: 0.35em;\">\n",
              "    27 June 2022\n",
              "    <span style=\"font-size: 0.8em; font-weight: bold; line-height: 1; border-radius: 0.35em; vertical-align: middle; margin-left: 0.5rem\">DATE</span>\n",
              "</mark>\n",
              ". \n",
              "<mark class=\"entity\" style=\"background: #7aecec; padding: 0.45em 0.6em; margin: 0 0.25em; line-height: 1; border-radius: 0.35em;\">\n",
              "    Jabeur\n",
              "    <span style=\"font-size: 0.8em; font-weight: bold; line-height: 1; border-radius: 0.35em; vertical-align: middle; margin-left: 0.5rem\">ORG</span>\n",
              "</mark>\n",
              " is the current No. \n",
              "<mark class=\"entity\" style=\"background: #e4e7d2; padding: 0.45em 0.6em; margin: 0 0.25em; line-height: 1; border-radius: 0.35em;\">\n",
              "    1\n",
              "    <span style=\"font-size: 0.8em; font-weight: bold; line-height: 1; border-radius: 0.35em; vertical-align: middle; margin-left: 0.5rem\">CARDINAL</span>\n",
              "</mark>\n",
              " \n",
              "<mark class=\"entity\" style=\"background: #c887fb; padding: 0.45em 0.6em; margin: 0 0.25em; line-height: 1; border-radius: 0.35em;\">\n",
              "    Tunisian\n",
              "    <span style=\"font-size: 0.8em; font-weight: bold; line-height: 1; border-radius: 0.35em; vertical-align: middle; margin-left: 0.5rem\">NORP</span>\n",
              "</mark>\n",
              " player, and the highest-ranked \n",
              "<mark class=\"entity\" style=\"background: #c887fb; padding: 0.45em 0.6em; margin: 0 0.25em; line-height: 1; border-radius: 0.35em;\">\n",
              "    African\n",
              "    <span style=\"font-size: 0.8em; font-weight: bold; line-height: 1; border-radius: 0.35em; vertical-align: middle; margin-left: 0.5rem\">NORP</span>\n",
              "</mark>\n",
              " and \n",
              "<mark class=\"entity\" style=\"background: #c887fb; padding: 0.45em 0.6em; margin: 0 0.25em; line-height: 1; border-radius: 0.35em;\">\n",
              "    Arab\n",
              "    <span style=\"font-size: 0.8em; font-weight: bold; line-height: 1; border-radius: 0.35em; vertical-align: middle; margin-left: 0.5rem\">NORP</span>\n",
              "</mark>\n",
              " tennis player in WTA and ATP rankings history. She has won \n",
              "<mark class=\"entity\" style=\"background: #e4e7d2; padding: 0.45em 0.6em; margin: 0 0.25em; line-height: 1; border-radius: 0.35em;\">\n",
              "    three\n",
              "    <span style=\"font-size: 0.8em; font-weight: bold; line-height: 1; border-radius: 0.35em; vertical-align: middle; margin-left: 0.5rem\">CARDINAL</span>\n",
              "</mark>\n",
              " singles titles on \n",
              "<mark class=\"entity\" style=\"background: #7aecec; padding: 0.45em 0.6em; margin: 0 0.25em; line-height: 1; border-radius: 0.35em;\">\n",
              "    the WTA Tour\n",
              "    <span style=\"font-size: 0.8em; font-weight: bold; line-height: 1; border-radius: 0.35em; vertical-align: middle; margin-left: 0.5rem\">ORG</span>\n",
              "</mark>\n",
              ", as well as \n",
              "<mark class=\"entity\" style=\"background: #e4e7d2; padding: 0.45em 0.6em; margin: 0 0.25em; line-height: 1; border-radius: 0.35em;\">\n",
              "    11\n",
              "    <span style=\"font-size: 0.8em; font-weight: bold; line-height: 1; border-radius: 0.35em; vertical-align: middle; margin-left: 0.5rem\">CARDINAL</span>\n",
              "</mark>\n",
              " singles titles and \n",
              "<mark class=\"entity\" style=\"background: #e4e7d2; padding: 0.45em 0.6em; margin: 0 0.25em; line-height: 1; border-radius: 0.35em;\">\n",
              "    one\n",
              "    <span style=\"font-size: 0.8em; font-weight: bold; line-height: 1; border-radius: 0.35em; vertical-align: middle; margin-left: 0.5rem\">CARDINAL</span>\n",
              "</mark>\n",
              " doubles title on \n",
              "<mark class=\"entity\" style=\"background: #7aecec; padding: 0.45em 0.6em; margin: 0 0.25em; line-height: 1; border-radius: 0.35em;\">\n",
              "    the ITF Women's Circuit\n",
              "    <span style=\"font-size: 0.8em; font-weight: bold; line-height: 1; border-radius: 0.35em; vertical-align: middle; margin-left: 0.5rem\">ORG</span>\n",
              "</mark>\n",
              ".</div></span>"
            ]
          },
          "metadata": {}
        }
      ]
    },
    {
      "cell_type": "code",
      "source": [
        "filter = {'ents': ['PERSON']}\n",
        "displacy.render(sen1, style='ent', jupyter=True, options=filter)"
      ],
      "metadata": {
        "colab": {
          "base_uri": "https://localhost:8080/",
          "height": 122
        },
        "id": "IjHtPBmzwWiP",
        "outputId": "9b84821a-3720-40a2-d77d-740d6132d1e6"
      },
      "execution_count": null,
      "outputs": [
        {
          "output_type": "display_data",
          "data": {
            "text/plain": [
              "<IPython.core.display.HTML object>"
            ],
            "text/html": [
              "<span class=\"tex2jax_ignore\"><div class=\"entities\" style=\"line-height: 2.5; direction: ltr\">\n",
              "<mark class=\"entity\" style=\"background: #aa9cfc; padding: 0.45em 0.6em; margin: 0 0.25em; line-height: 1; border-radius: 0.35em;\">\n",
              "    Ons Jabeur\n",
              "    <span style=\"font-size: 0.8em; font-weight: bold; line-height: 1; border-radius: 0.35em; vertical-align: middle; margin-left: 0.5rem\">PERSON</span>\n",
              "</mark>\n",
              " is a Tunisian professional tennis player. She has been ranked as high as world No. 2 by the Women's Tennis Association (WTA), achieved on 27 June 2022. Jabeur is the current No. 1 Tunisian player, and the highest-ranked African and Arab tennis player in WTA and ATP rankings history. She has won three singles titles on the WTA Tour, as well as 11 singles titles and one doubles title on the ITF Women's Circuit.</div></span>"
            ]
          },
          "metadata": {}
        }
      ]
    },
    {
      "cell_type": "code",
      "source": [],
      "metadata": {
        "id": "xDcmKR9LwleT"
      },
      "execution_count": null,
      "outputs": []
    },
    {
      "cell_type": "code",
      "source": [
        "!pip install transformers"
      ],
      "metadata": {
        "colab": {
          "base_uri": "https://localhost:8080/"
        },
        "id": "A1n_fEVnw7z-",
        "outputId": "2ccfd259-21f1-4def-80ae-917f4b849d21"
      },
      "execution_count": null,
      "outputs": [
        {
          "output_type": "stream",
          "name": "stdout",
          "text": [
            "Looking in indexes: https://pypi.org/simple, https://us-python.pkg.dev/colab-wheels/public/simple/\n",
            "Collecting transformers\n",
            "  Downloading transformers-4.21.3-py3-none-any.whl (4.7 MB)\n",
            "\u001b[K     |████████████████████████████████| 4.7 MB 30.7 MB/s \n",
            "\u001b[?25hRequirement already satisfied: numpy>=1.17 in /usr/local/lib/python3.7/dist-packages (from transformers) (1.21.6)\n",
            "Requirement already satisfied: importlib-metadata in /usr/local/lib/python3.7/dist-packages (from transformers) (4.12.0)\n",
            "Collecting huggingface-hub<1.0,>=0.1.0\n",
            "  Downloading huggingface_hub-0.9.1-py3-none-any.whl (120 kB)\n",
            "\u001b[K     |████████████████████████████████| 120 kB 85.0 MB/s \n",
            "\u001b[?25hRequirement already satisfied: packaging>=20.0 in /usr/local/lib/python3.7/dist-packages (from transformers) (21.3)\n",
            "Requirement already satisfied: regex!=2019.12.17 in /usr/local/lib/python3.7/dist-packages (from transformers) (2022.6.2)\n",
            "Requirement already satisfied: requests in /usr/local/lib/python3.7/dist-packages (from transformers) (2.23.0)\n",
            "Collecting tokenizers!=0.11.3,<0.13,>=0.11.1\n",
            "  Downloading tokenizers-0.12.1-cp37-cp37m-manylinux_2_12_x86_64.manylinux2010_x86_64.whl (6.6 MB)\n",
            "\u001b[K     |████████████████████████████████| 6.6 MB 58.3 MB/s \n",
            "\u001b[?25hRequirement already satisfied: filelock in /usr/local/lib/python3.7/dist-packages (from transformers) (3.8.0)\n",
            "Requirement already satisfied: tqdm>=4.27 in /usr/local/lib/python3.7/dist-packages (from transformers) (4.64.0)\n",
            "Requirement already satisfied: pyyaml>=5.1 in /usr/local/lib/python3.7/dist-packages (from transformers) (6.0)\n",
            "Requirement already satisfied: typing-extensions>=3.7.4.3 in /usr/local/lib/python3.7/dist-packages (from huggingface-hub<1.0,>=0.1.0->transformers) (4.1.1)\n",
            "Requirement already satisfied: pyparsing!=3.0.5,>=2.0.2 in /usr/local/lib/python3.7/dist-packages (from packaging>=20.0->transformers) (3.0.9)\n",
            "Requirement already satisfied: zipp>=0.5 in /usr/local/lib/python3.7/dist-packages (from importlib-metadata->transformers) (3.8.1)\n",
            "Requirement already satisfied: urllib3!=1.25.0,!=1.25.1,<1.26,>=1.21.1 in /usr/local/lib/python3.7/dist-packages (from requests->transformers) (1.24.3)\n",
            "Requirement already satisfied: certifi>=2017.4.17 in /usr/local/lib/python3.7/dist-packages (from requests->transformers) (2022.6.15)\n",
            "Requirement already satisfied: idna<3,>=2.5 in /usr/local/lib/python3.7/dist-packages (from requests->transformers) (2.10)\n",
            "Requirement already satisfied: chardet<4,>=3.0.2 in /usr/local/lib/python3.7/dist-packages (from requests->transformers) (3.0.4)\n",
            "Installing collected packages: tokenizers, huggingface-hub, transformers\n",
            "Successfully installed huggingface-hub-0.9.1 tokenizers-0.12.1 transformers-4.21.3\n"
          ]
        }
      ]
    },
    {
      "cell_type": "code",
      "source": [
        "from transformers import AutoTokenizer, AutoModelForTokenClassification\n",
        "from transformers import pipeline\n",
        "\n",
        "tokenizer = AutoTokenizer.from_pretrained(\"dslim/bert-base-NER\")\n",
        "model = AutoModelForTokenClassification.from_pretrained(\"dslim/bert-base-NER\")\n",
        "\n",
        "nlp = pipeline(\"ner\", model=model, tokenizer=tokenizer)\n",
        "example = \"My name is Nesrine Azaiez, I'm from Tunisia and I live in Sfax\"\n",
        "\n",
        "ner_results = nlp(example)\n",
        "print(ner_results)"
      ],
      "metadata": {
        "colab": {
          "base_uri": "https://localhost:8080/"
        },
        "id": "B_Hkjf1zwXu7",
        "outputId": "8facffbc-8bf0-479d-91a4-459d2fc4a625"
      },
      "execution_count": null,
      "outputs": [
        {
          "output_type": "stream",
          "name": "stdout",
          "text": [
            "[{'entity': 'B-PER', 'score': 0.99949133, 'index': 4, 'word': 'N', 'start': 11, 'end': 12}, {'entity': 'B-PER', 'score': 0.9896903, 'index': 5, 'word': '##es', 'start': 12, 'end': 14}, {'entity': 'I-PER', 'score': 0.54800695, 'index': 6, 'word': '##rine', 'start': 14, 'end': 18}, {'entity': 'I-PER', 'score': 0.9993211, 'index': 7, 'word': 'A', 'start': 19, 'end': 20}, {'entity': 'I-PER', 'score': 0.99401855, 'index': 8, 'word': '##zai', 'start': 20, 'end': 23}, {'entity': 'I-PER', 'score': 0.9916877, 'index': 9, 'word': '##ez', 'start': 23, 'end': 25}, {'entity': 'B-LOC', 'score': 0.9998332, 'index': 15, 'word': 'Tunisia', 'start': 36, 'end': 43}, {'entity': 'B-LOC', 'score': 0.99842775, 'index': 20, 'word': 'S', 'start': 58, 'end': 59}, {'entity': 'I-LOC', 'score': 0.9383965, 'index': 21, 'word': '##fa', 'start': 59, 'end': 61}, {'entity': 'I-LOC', 'score': 0.8901361, 'index': 22, 'word': '##x', 'start': 61, 'end': 62}]\n"
          ]
        }
      ]
    },
    {
      "cell_type": "code",
      "source": [
        "ner_results\n"
      ],
      "metadata": {
        "colab": {
          "base_uri": "https://localhost:8080/"
        },
        "id": "6yOSoiRjxHsU",
        "outputId": "d4486fd5-410d-4b8d-a31d-c97fa7c7f60b"
      },
      "execution_count": null,
      "outputs": [
        {
          "output_type": "execute_result",
          "data": {
            "text/plain": [
              "[{'entity': 'B-PER',\n",
              "  'score': 0.99949133,\n",
              "  'index': 4,\n",
              "  'word': 'N',\n",
              "  'start': 11,\n",
              "  'end': 12},\n",
              " {'entity': 'B-PER',\n",
              "  'score': 0.9896903,\n",
              "  'index': 5,\n",
              "  'word': '##es',\n",
              "  'start': 12,\n",
              "  'end': 14},\n",
              " {'entity': 'I-PER',\n",
              "  'score': 0.54800695,\n",
              "  'index': 6,\n",
              "  'word': '##rine',\n",
              "  'start': 14,\n",
              "  'end': 18},\n",
              " {'entity': 'I-PER',\n",
              "  'score': 0.9993211,\n",
              "  'index': 7,\n",
              "  'word': 'A',\n",
              "  'start': 19,\n",
              "  'end': 20},\n",
              " {'entity': 'I-PER',\n",
              "  'score': 0.99401855,\n",
              "  'index': 8,\n",
              "  'word': '##zai',\n",
              "  'start': 20,\n",
              "  'end': 23},\n",
              " {'entity': 'I-PER',\n",
              "  'score': 0.9916877,\n",
              "  'index': 9,\n",
              "  'word': '##ez',\n",
              "  'start': 23,\n",
              "  'end': 25},\n",
              " {'entity': 'B-LOC',\n",
              "  'score': 0.9998332,\n",
              "  'index': 15,\n",
              "  'word': 'Tunisia',\n",
              "  'start': 36,\n",
              "  'end': 43},\n",
              " {'entity': 'B-LOC',\n",
              "  'score': 0.99842775,\n",
              "  'index': 20,\n",
              "  'word': 'S',\n",
              "  'start': 58,\n",
              "  'end': 59},\n",
              " {'entity': 'I-LOC',\n",
              "  'score': 0.9383965,\n",
              "  'index': 21,\n",
              "  'word': '##fa',\n",
              "  'start': 59,\n",
              "  'end': 61},\n",
              " {'entity': 'I-LOC',\n",
              "  'score': 0.8901361,\n",
              "  'index': 22,\n",
              "  'word': '##x',\n",
              "  'start': 61,\n",
              "  'end': 62}]"
            ]
          },
          "metadata": {},
          "execution_count": 62
        }
      ]
    },
    {
      "cell_type": "code",
      "source": [],
      "metadata": {
        "id": "Yp_tihYD17-m"
      },
      "execution_count": null,
      "outputs": []
    }
  ]
}